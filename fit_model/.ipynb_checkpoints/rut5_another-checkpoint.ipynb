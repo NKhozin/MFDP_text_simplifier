{
 "cells": [
  {
   "cell_type": "code",
   "execution_count": 1,
   "id": "ecf76ce3",
   "metadata": {},
   "outputs": [
    {
     "name": "stderr",
     "output_type": "stream",
     "text": [
      "C:\\Users\\nkhozin\\anaconda3\\envs\\myenv\\lib\\site-packages\\tqdm\\auto.py:21: TqdmWarning: IProgress not found. Please update jupyter and ipywidgets. See https://ipywidgets.readthedocs.io/en/stable/user_install.html\n",
      "  from .autonotebook import tqdm as notebook_tqdm\n"
     ]
    }
   ],
   "source": [
    "from transformers import AutoTokenizer, AutoModelForSeq2SeqLM, Seq2SeqTrainingArguments, Seq2SeqTrainer, DataCollatorForSeq2Seq\n",
    "import pandas as pd\n",
    "from datasets import load_dataset, load_metric\n",
    "from sklearn.utils import shuffle\n",
    "import torch \n",
    "import mlflow\n",
    "import numpy as np\n",
    "from transformers import T5ForConditionalGeneration, T5Tokenizer"
   ]
  },
  {
   "cell_type": "code",
   "execution_count": 2,
   "id": "a37bad03",
   "metadata": {},
   "outputs": [
    {
     "name": "stderr",
     "output_type": "stream",
     "text": [
      "C:\\Users\\nkhozin\\AppData\\Local\\Temp\\ipykernel_13108\\1264828061.py:1: FutureWarning: load_metric is deprecated and will be removed in the next major version of datasets. Use 'evaluate.load' instead, from the new library 🤗 Evaluate: https://huggingface.co/docs/evaluate\n",
      "  metric = load_metric('rouge')\n"
     ]
    }
   ],
   "source": [
    "metric = load_metric('rouge')"
   ]
  },
  {
   "cell_type": "code",
   "execution_count": 3,
   "id": "f287f4ed",
   "metadata": {},
   "outputs": [],
   "source": [
    "model_name = 'cointegrated/rut5-base-multitask'\n",
    "\n",
    "model = AutoModelForSeq2SeqLM.from_pretrained(model_name)\n",
    "tokenizer = T5Tokenizer.from_pretrained(model_name)"
   ]
  },
  {
   "cell_type": "code",
   "execution_count": 4,
   "id": "c0c70dee",
   "metadata": {},
   "outputs": [
    {
     "name": "stdout",
     "output_type": "stream",
     "text": [
      "12000 1200\n"
     ]
    }
   ],
   "source": [
    "train = pd.read_csv('data\\\\train_small.csv', index_col=0)\n",
    "train = shuffle(train[train['size']=='small'])\n",
    "train_pairs = list(zip(train.source, train.target))\n",
    "\n",
    "val = pd.read_csv('data\\\\eval_small.csv', index_col=0)\n",
    "val = val[val['size']=='small']\n",
    "eval_pairs = list(zip(val.source, val.target))\n",
    "\n",
    "print(train.shape[0], val.shape[0])"
   ]
  },
  {
   "cell_type": "code",
   "execution_count": 5,
   "id": "dc0823f0",
   "metadata": {},
   "outputs": [
    {
     "name": "stdout",
     "output_type": "stream",
     "text": [
      "('simplify | Применение антипсихотиков приводит к сердечно-сосудистым и лёгочным нарушениям, что по крайней мере отчасти объясняет повышенный риск смертности.', 'Повышенный риск смертности при приеме антипсихотиков можно объяснить возникающими нарушениями работы легких, сердца и сосудов.')\n",
      "('simplify | Лиза П. Джексон — вице-президент по охране окружающей среды, образовательной политике и социальным инициативам.', 'Лиза П. Джексон - активный человек.')\n"
     ]
    }
   ],
   "source": [
    "print(train_pairs[0])\n",
    "print(eval_pairs[0])"
   ]
  },
  {
   "cell_type": "code",
   "execution_count": 6,
   "id": "d746652d",
   "metadata": {},
   "outputs": [],
   "source": [
    "train_pairs = train_pairs[:200]\n",
    "eval_pairs = eval_pairs[:50]"
   ]
  },
  {
   "cell_type": "code",
   "execution_count": 7,
   "id": "6e0f0e4d",
   "metadata": {},
   "outputs": [],
   "source": [
    "class SimplificationDataset(torch.utils.data.Dataset):\n",
    "    def __init__(self, pairs, tokenizer, max_length):\n",
    "        self.pairs = pairs\n",
    "        self.tokenizer = tokenizer\n",
    "        self.max_length = max_length\n",
    "\n",
    "    def __len__(self):\n",
    "        return len(self.pairs)\n",
    "\n",
    "    def __getitem__(self, index):\n",
    "        source_text, target_text = self.pairs[index]\n",
    "        source_encoding = self.tokenizer(source_text, truncation=True, max_length=self.max_length, padding=\"max_length\")\n",
    "        target_encoding = self.tokenizer(target_text, truncation=True, max_length=self.max_length, padding=\"max_length\")\n",
    "\n",
    "        return {\n",
    "            \"input_ids\": source_encoding[\"input_ids\"],\n",
    "            \"attention_mask\": source_encoding[\"attention_mask\"],\n",
    "            \"labels\": target_encoding[\"input_ids\"],\n",
    "        }"
   ]
  },
  {
   "cell_type": "code",
   "execution_count": 8,
   "id": "0b3563de",
   "metadata": {},
   "outputs": [],
   "source": [
    "max_length = 512\n",
    "train_dataset = SimplificationDataset(train_pairs, tokenizer, max_length=max_length)\n",
    "eval_dataset = SimplificationDataset(eval_pairs, tokenizer, max_length=max_length)"
   ]
  },
  {
   "cell_type": "code",
   "execution_count": 10,
   "id": "4a20b05e",
   "metadata": {},
   "outputs": [],
   "source": [
    "def compute_rouge(pred):\n",
    "    predictions, labels = pred\n",
    "    #decode the predictions\n",
    "    decode_predictions = tokenizer.batch_decode(predictions, skip_special_tokens=True)\n",
    "    \n",
    "    labels = np.where(labels != -100, labels, tokenizer.pad_token_id)\n",
    "    #decode labels\n",
    "    decode_labels = tokenizer.batch_decode(labels, skip_special_tokens=True)\n",
    "\n",
    "    #compute results\n",
    "    res = metric.compute(predictions=decode_predictions, references=decode_labels, use_stemmer=True)\n",
    "    #get %\n",
    "    res = {key: value.mid.fmeasure * 100 for key, value in res.items()}\n",
    "\n",
    "    pred_lens = [np.count_nonzero(pred != tokenizer.pad_token_id) for pred in predictions]\n",
    "    res['gen_len'] = np.mean(pred_lens)\n",
    "\n",
    "    return {k: round(v, 4) for k, v in res.items()}"
   ]
  },
  {
   "cell_type": "code",
   "execution_count": 11,
   "id": "1bbbac35",
   "metadata": {},
   "outputs": [],
   "source": [
    "experiment_name = \"rut5\"\n",
    "mlflow.set_experiment(experiment_name)\n",
    "current_experiment = dict(mlflow.get_experiment_by_name(experiment_name))\n",
    "exp_id = current_experiment['experiment_id']"
   ]
  },
  {
   "cell_type": "code",
   "execution_count": 12,
   "id": "4e837bb6",
   "metadata": {},
   "outputs": [],
   "source": [
    "collator = DataCollatorForSeq2Seq(tokenizer, model=model)"
   ]
  },
  {
   "cell_type": "code",
   "execution_count": 13,
   "id": "e3e95ae1",
   "metadata": {},
   "outputs": [
    {
     "name": "stderr",
     "output_type": "stream",
     "text": [
      "Using cuda_amp half precision backend\n"
     ]
    }
   ],
   "source": [
    "save_dir = 'rut5_test'\n",
    "\n",
    "args = Seq2SeqTrainingArguments(\n",
    "    save_dir, #save directory\n",
    "    overwrite_output_dir = 'True',\n",
    "    learning_rate=1e-5,\n",
    "    per_device_train_batch_size= 6,\n",
    "    per_device_eval_batch_size= 6,\n",
    "    num_train_epochs=10,\n",
    "    predict_with_generate=True,\n",
    "    evaluation_strategy='steps',\n",
    "    logging_steps=100,\n",
    "    save_steps=10000,\n",
    "    fp16=True\n",
    "    )\n",
    "\n",
    "trainer = Seq2SeqTrainer(\n",
    "    model, \n",
    "    args,\n",
    "    train_dataset=train_dataset,\n",
    "    eval_dataset=eval_dataset,\n",
    "    tokenizer=tokenizer,\n",
    "    data_collator=collator,\n",
    "    compute_metrics=compute_rouge\n",
    ")"
   ]
  },
  {
   "cell_type": "code",
   "execution_count": 14,
   "id": "59ef3f50",
   "metadata": {
    "scrolled": false
   },
   "outputs": [
    {
     "name": "stderr",
     "output_type": "stream",
     "text": [
      "2023/05/21 19:59:50 WARNING mlflow.utils.git_utils: Failed to import Git (the Git executable is probably not on your PATH), so Git SHA is not available. Error: Failed to initialize: Bad git executable.\n",
      "The git executable must be specified in one of the following ways:\n",
      "    - be included in your $PATH\n",
      "    - be set via $GIT_PYTHON_GIT_EXECUTABLE\n",
      "    - explicitly set via git.refresh()\n",
      "\n",
      "All git commands will error until this is rectified.\n",
      "\n",
      "This initial warning can be silenced or aggravated in the future by setting the\n",
      "$GIT_PYTHON_REFRESH environment variable. Use one of the following values:\n",
      "    - quiet|q|silence|s|none|n|0: for no warning or exception\n",
      "    - warn|w|warning|1: for a printed warning\n",
      "    - error|e|raise|r|2: for a raised exception\n",
      "\n",
      "Example:\n",
      "    export GIT_PYTHON_REFRESH=quiet\n",
      "\n",
      "C:\\Users\\nkhozin\\anaconda3\\envs\\myenv\\lib\\site-packages\\transformers\\optimization.py:306: FutureWarning: This implementation of AdamW is deprecated and will be removed in a future version. Use the PyTorch implementation torch.optim.AdamW instead, or set `no_deprecation_warning=True` to disable this warning\n",
      "  warnings.warn(\n",
      "***** Running training *****\n",
      "  Num examples = 200\n",
      "  Num Epochs = 10\n",
      "  Instantaneous batch size per device = 6\n",
      "  Total train batch size (w. parallel, distributed & accumulation) = 6\n",
      "  Gradient Accumulation steps = 1\n",
      "  Total optimization steps = 340\n",
      "  Number of trainable parameters = 244309248\n"
     ]
    },
    {
     "data": {
      "text/html": [
       "\n",
       "    <div>\n",
       "      \n",
       "      <progress value='340' max='340' style='width:300px; height:20px; vertical-align: middle;'></progress>\n",
       "      [340/340 01:44, Epoch 10/10]\n",
       "    </div>\n",
       "    <table border=\"1\" class=\"dataframe\">\n",
       "  <thead>\n",
       " <tr style=\"text-align: left;\">\n",
       "      <th>Step</th>\n",
       "      <th>Training Loss</th>\n",
       "      <th>Validation Loss</th>\n",
       "      <th>Rouge1</th>\n",
       "      <th>Rouge2</th>\n",
       "      <th>Rougel</th>\n",
       "      <th>Rougelsum</th>\n",
       "      <th>Gen Len</th>\n",
       "    </tr>\n",
       "  </thead>\n",
       "  <tbody>\n",
       "    <tr>\n",
       "      <td>100</td>\n",
       "      <td>0.000000</td>\n",
       "      <td>nan</td>\n",
       "      <td>2.000000</td>\n",
       "      <td>2.000000</td>\n",
       "      <td>2.000000</td>\n",
       "      <td>2.000000</td>\n",
       "      <td>18.900000</td>\n",
       "    </tr>\n",
       "    <tr>\n",
       "      <td>200</td>\n",
       "      <td>0.000000</td>\n",
       "      <td>nan</td>\n",
       "      <td>2.000000</td>\n",
       "      <td>2.000000</td>\n",
       "      <td>2.000000</td>\n",
       "      <td>2.000000</td>\n",
       "      <td>18.900000</td>\n",
       "    </tr>\n",
       "    <tr>\n",
       "      <td>300</td>\n",
       "      <td>0.000000</td>\n",
       "      <td>nan</td>\n",
       "      <td>2.000000</td>\n",
       "      <td>2.000000</td>\n",
       "      <td>2.000000</td>\n",
       "      <td>2.000000</td>\n",
       "      <td>18.900000</td>\n",
       "    </tr>\n",
       "  </tbody>\n",
       "</table><p>"
      ],
      "text/plain": [
       "<IPython.core.display.HTML object>"
      ]
     },
     "metadata": {},
     "output_type": "display_data"
    },
    {
     "name": "stderr",
     "output_type": "stream",
     "text": [
      "***** Running Evaluation *****\n",
      "  Num examples = 50\n",
      "  Batch size = 6\n",
      "C:\\Users\\nkhozin\\anaconda3\\envs\\myenv\\lib\\site-packages\\torch\\optim\\lr_scheduler.py:139: UserWarning: Detected call of `lr_scheduler.step()` before `optimizer.step()`. In PyTorch 1.1.0 and later, you should call them in the opposite order: `optimizer.step()` before `lr_scheduler.step()`.  Failure to do this will result in PyTorch skipping the first value of the learning rate schedule. See more details at https://pytorch.org/docs/stable/optim.html#how-to-adjust-learning-rate\n",
      "  warnings.warn(\"Detected call of `lr_scheduler.step()` before `optimizer.step()`. \"\n",
      "***** Running Evaluation *****\n",
      "  Num examples = 50\n",
      "  Batch size = 6\n",
      "***** Running Evaluation *****\n",
      "  Num examples = 50\n",
      "  Batch size = 6\n",
      "\n",
      "\n",
      "Training completed. Do not forget to share your model on huggingface.co/models =)\n",
      "\n",
      "\n",
      "***** Running Evaluation *****\n",
      "  Num examples = 50\n",
      "  Batch size = 6\n"
     ]
    },
    {
     "data": {
      "text/html": [
       "\n",
       "    <div>\n",
       "      \n",
       "      <progress value='9' max='9' style='width:300px; height:20px; vertical-align: middle;'></progress>\n",
       "      [9/9 00:02]\n",
       "    </div>\n",
       "    "
      ],
      "text/plain": [
       "<IPython.core.display.HTML object>"
      ]
     },
     "metadata": {},
     "output_type": "display_data"
    },
    {
     "name": "stderr",
     "output_type": "stream",
     "text": [
      "Saving model checkpoint to ./rut5_test\n",
      "Configuration saved in ./rut5_test\\config.json\n",
      "Model weights saved in ./rut5_test\\pytorch_model.bin\n",
      "tokenizer config file saved in ./rut5_test\\tokenizer_config.json\n",
      "Special tokens file saved in ./rut5_test\\special_tokens_map.json\n"
     ]
    }
   ],
   "source": [
    "#, run_name='first_test'\n",
    "with mlflow.start_run(experiment_id=exp_id):\n",
    "    # Логируем параметры\n",
    "    mlflow.log_param('model_name', model_name)\n",
    "    #mlflow.log_param('max_length', max_length)\n",
    "    mlflow.log_param('train_data_size', len(train_dataset))\n",
    "    mlflow.log_param('batch_size', args.per_device_train_batch_size)\n",
    "    \n",
    "    trainer.train()\n",
    "    \n",
    "    # Логируем метрики\n",
    "    metrics = trainer.evaluate()\n",
    "    for key, value in metrics.items():\n",
    "        mlflow.log_metric(key, value)\n",
    "\n",
    "    # Сохраняем модель и логируем путь к ней\n",
    "    output_dir = f'./{save_dir}'\n",
    "    trainer.save_model(output_dir)\n",
    "    mlflow.log_artifacts(output_dir, artifact_path='models')\n",
    "    \n",
    "mlflow.end_run()"
   ]
  }
 ],
 "metadata": {
  "kernelspec": {
   "display_name": "Python 3 (ipykernel)",
   "language": "python",
   "name": "python3"
  },
  "language_info": {
   "codemirror_mode": {
    "name": "ipython",
    "version": 3
   },
   "file_extension": ".py",
   "mimetype": "text/x-python",
   "name": "python",
   "nbconvert_exporter": "python",
   "pygments_lexer": "ipython3",
   "version": "3.10.11"
  }
 },
 "nbformat": 4,
 "nbformat_minor": 5
}
