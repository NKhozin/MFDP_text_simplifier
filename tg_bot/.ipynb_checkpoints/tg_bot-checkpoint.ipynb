{
 "cells": [
  {
   "cell_type": "code",
   "execution_count": 1,
   "id": "a78fdd12",
   "metadata": {},
   "outputs": [
    {
     "name": "stderr",
     "output_type": "stream",
     "text": [
      "C:\\Users\\nkhozin\\anaconda3\\envs\\myenv\\lib\\site-packages\\tqdm\\auto.py:21: TqdmWarning: IProgress not found. Please update jupyter and ipywidgets. See https://ipywidgets.readthedocs.io/en/stable/user_install.html\n",
      "  from .autonotebook import tqdm as notebook_tqdm\n"
     ]
    }
   ],
   "source": [
    "import telebot\n",
    "import torch \n",
    "from transformers import T5ForConditionalGeneration, T5Tokenizer"
   ]
  },
  {
   "cell_type": "code",
   "execution_count": 2,
   "id": "3e5df4f8",
   "metadata": {},
   "outputs": [],
   "source": [
    "model_name = \"rut5_v7\"\n",
    "tokenizer = T5Tokenizer.from_pretrained(model_name)\n",
    "model = T5ForConditionalGeneration.from_pretrained(model_name).cuda()\n",
    "device = 'cuda'"
   ]
  },
  {
   "cell_type": "code",
   "execution_count": 3,
   "id": "70e973fc",
   "metadata": {},
   "outputs": [],
   "source": [
    "# Best trial:\n",
    "# Value:  33.436832361267065\n",
    "# Params: \n",
    "# repetition_penalty: 0.03657671556007456\n",
    "# num_beams: 4\n",
    "# max_length: 0.4193862846988271\n",
    "# length_penalty: 1.9554354329528894\n",
    "# no_repeat_ngram_size: 1\n",
    "# early_stopping: False"
   ]
  },
  {
   "cell_type": "code",
   "execution_count": 4,
   "id": "da22b6cf",
   "metadata": {},
   "outputs": [],
   "source": [
    "def generate(text, **kwargs):\n",
    "    inputs = tokenizer(text, return_tensors='pt').to(device)\n",
    "    with torch.no_grad():\n",
    "        hypotheses = model.generate(**inputs, num_beams=4, max_length=len(text)*0.5, **kwargs)\n",
    "    return tokenizer.decode(hypotheses[0], skip_special_tokens=True)\n",
    "\n",
    "def generate_t5(text):\n",
    "    inputs = tokenizer(text, return_tensors='pt').to(device)\n",
    "    with torch.no_grad():\n",
    "        hypotheses = model.generate(inputs[\"input_ids\"], no_repeat_ngram_size=1) #, max_length=len(text)*0.7, max_length=30, num_beams=5\n",
    "    return tokenizer.decode(hypotheses[0], skip_special_tokens=True)\n",
    "\n",
    "# def paraphrase(text, beams=5, grams=4):\n",
    "#     x = tokenizer(text, return_tensors='pt', padding=True).to(model.device)\n",
    "#     max_size = int(x.input_ids.shape[1] * 1.5 + 10)\n",
    "#     out = model.generate(**x, encoder_no_repeat_ngram_size=grams, num_beams=beams, max_length=max_size)\n",
    "#     return tokenizer.decode(out[0], skip_special_tokens=True)"
   ]
  },
  {
   "cell_type": "code",
   "execution_count": 5,
   "id": "d7a537a2",
   "metadata": {},
   "outputs": [],
   "source": [
    "text = \"\"\"В Питере в акватории Финского залива на флагштоках высотой 179,5 метров подняли флаги Российской Федерации, Российской империи и СССР.\n",
    "«Поднятие флагов приурочено к большим историческим датам, связанным с учреждением каждого из них: 165 лет флагу Российской империи, 100 лет Красному знамени и 330 лет триколору Петра Первого», — сообщила пресс-служба «Газпрома»\"\"\""
   ]
  },
  {
   "cell_type": "code",
   "execution_count": 6,
   "id": "8f6c7a41",
   "metadata": {},
   "outputs": [
    {
     "name": "stderr",
     "output_type": "stream",
     "text": [
      "C:\\Users\\nkhozin\\anaconda3\\envs\\myenv\\lib\\site-packages\\transformers\\generation_utils.py:1359: UserWarning: Neither `max_length` nor `max_new_tokens` has been set, `max_length` will default to 20 (`self.config.max_length`). Controlling `max_length` via the config is deprecated and `max_length` will be removed from the config in v5 of Transformers -- we recommend using `max_new_tokens` to control the maximum length of the generation.\n",
      "  warnings.warn(\n"
     ]
    },
    {
     "data": {
      "text/plain": [
       "'В Питере подняли флаги Российской Федерации, Россиийской империей.'"
      ]
     },
     "execution_count": 6,
     "metadata": {},
     "output_type": "execute_result"
    }
   ],
   "source": [
    "generate_t5(text)"
   ]
  },
  {
   "cell_type": "code",
   "execution_count": null,
   "id": "13d5e74c",
   "metadata": {},
   "outputs": [],
   "source": [
    "bot = telebot.TeleBot('5859558869:AAHb_SjGmlqreUW5kXumA4aIMgR3UFzsR8g')\n",
    "\n",
    "@bot.message_handler(commands=['start', 'help'])\n",
    "def send_welcome(message):\n",
    "    bot.reply_to(message, \"Привет! Я умею упрощать текст. Отправь мне предложение и я его упрощу.\")\n",
    "\n",
    "@bot.message_handler(commands=['simplify'])\n",
    "def simplify_text(message):\n",
    "    input_text = message.text[10:]  # удаляем \"/simplify \" из сообщения\n",
    "    output_text = generate_t5(f'simplify | {input_text}')  # обрабатываем текст\n",
    "    bot.reply_to(message, output_text)\n",
    "\n",
    "bot.polling()"
   ]
  }
 ],
 "metadata": {
  "kernelspec": {
   "display_name": "Python 3 (ipykernel)",
   "language": "python",
   "name": "python3"
  },
  "language_info": {
   "codemirror_mode": {
    "name": "ipython",
    "version": 3
   },
   "file_extension": ".py",
   "mimetype": "text/x-python",
   "name": "python",
   "nbconvert_exporter": "python",
   "pygments_lexer": "ipython3",
   "version": "3.10.11"
  }
 },
 "nbformat": 4,
 "nbformat_minor": 5
}
