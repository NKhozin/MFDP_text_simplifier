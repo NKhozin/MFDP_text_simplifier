{
 "cells": [
  {
   "cell_type": "code",
   "execution_count": 15,
   "id": "96679dcf",
   "metadata": {},
   "outputs": [],
   "source": [
    "import telebot\n",
    "import torch \n",
    "from transformers import T5ForConditionalGeneration, T5Tokenizer"
   ]
  },
  {
   "cell_type": "code",
   "execution_count": 16,
   "id": "80524b4e",
   "metadata": {},
   "outputs": [],
   "source": [
    "def generate_t5(text):\n",
    "    \"\"\"Функция суммаризации исходного текста\"\"\"\n",
    "    inputs = tokenizer(text, return_tensors='pt').to(device)\n",
    "    with torch.no_grad():\n",
    "        hypotheses = model.generate(inputs[\"input_ids\"], num_beams=3, max_length=len(text)*0.5)\n",
    "    return tokenizer.decode(hypotheses[0], skip_special_tokens=True)"
   ]
  },
  {
   "cell_type": "code",
   "execution_count": 14,
   "id": "022191a3",
   "metadata": {},
   "outputs": [],
   "source": [
    "tokenizer = T5Tokenizer.from_pretrained(\"nikitakhozin/t5_summarization\")\n",
    "model = T5ForConditionalGeneration.from_pretrained(\"nikitakhozin/t5_summarization\").cuda()\n",
    "device = 'cuda'"
   ]
  },
  {
   "cell_type": "code",
   "execution_count": 19,
   "id": "680c8c17",
   "metadata": {},
   "outputs": [
    {
     "data": {
      "text/plain": [
       "'Вооруженный мужчина захватил семь заложников в отделении банка «Каспий» в Астане.'"
      ]
     },
     "execution_count": 19,
     "metadata": {},
     "output_type": "execute_result"
    }
   ],
   "source": [
    "text = \"\"\"\n",
    "В Астане вооруженный мужчина захватил заложников в отделении банка «Каспий», сообщила полиция Казахстана. \n",
    "По предварительным данным, мужчина требует перевести все активы банка детям-инвалидам, малоимущим и нуждающимся. На выполнение дает три часа, в случае отказа угрожает убить семь девушек и одного охранника. \n",
    "К зданию банка прибыл спецназ.\n",
    "\"\"\"\n",
    "generate_t5(text)"
   ]
  }
 ],
 "metadata": {
  "kernelspec": {
   "display_name": "Python 3 (ipykernel)",
   "language": "python",
   "name": "python3"
  },
  "language_info": {
   "codemirror_mode": {
    "name": "ipython",
    "version": 3
   },
   "file_extension": ".py",
   "mimetype": "text/x-python",
   "name": "python",
   "nbconvert_exporter": "python",
   "pygments_lexer": "ipython3",
   "version": "3.10.11"
  }
 },
 "nbformat": 4,
 "nbformat_minor": 5
}
